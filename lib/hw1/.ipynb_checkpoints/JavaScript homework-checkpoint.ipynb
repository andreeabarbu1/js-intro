{
 "cells": [
  {
   "cell_type": "markdown",
   "metadata": {},
   "source": [
    "# JavaScript homework"
   ]
  },
  {
   "cell_type": "markdown",
   "metadata": {},
   "source": [
    "## Task 1\n",
    "\n",
    "Read\n",
    "\n",
    "https://nodejs.org/en/docs/guides/blocking-vs-non-blocking/\n",
    "\n",
    "https://nodejs.org/en/docs/guides/event-loop-timers-and-nexttick/\n",
    "\n",
    "https://nodejs.org/en/docs/guides/dont-block-the-event-loop/\n",
    "\n",
    "https://nodejs.org/en/docs/guides/timers-in-node/\n",
    "\n",
    "\n",
    "\n",
    "https://nodejs.dev/learn/the-nodejs-event-loop\n",
    "\n",
    "https://nodejs.dev/learn/understanding-process-nexttick\n",
    "\n",
    "https://nodejs.dev/learn/understanding-setimmediate\n",
    "\n",
    "https://nodejs.dev/learn/discover-javascript-timers\n",
    "\n",
    "https://nodejs.dev/learn/javascript-asynchronous-programming-and-callbacks\n",
    "\n",
    "https://nodejs.dev/learn/understanding-javascript-promises\n",
    "\n",
    "https://nodejs.dev/learn/modern-asynchronous-javascript-with-async-and-await\n",
    "\n",
    "https://nodejs.dev/learn/the-nodejs-event-emitter\n",
    "\n",
    "https://nodejs.dev/learn/error-handling-in-nodejs\n",
    "\n",
    "\n",
    "\n",
    "This will be very relevant to you no matter the team you are in.\n",
    "\n",
    "Answer the following open question: why is NodeJS so good for I/O intensive programs such as servers?\n",
    "\n",
    "Note: If you have time almost all the lectures in https://nodejs.dev/learn/ seem relevant and well made"
   ]
  },
  {
   "cell_type": "code",
   "execution_count": 1,
   "metadata": {},
   "outputs": [],
   "source": [
    "function answer() {\n",
    "    // print out the answer here, using the JavaScript command for printing stuff\n",
    "    \n",
    "}\n",
    "answer();"
   ]
  },
  {
   "cell_type": "markdown",
   "metadata": {},
   "source": [
    "## Task 2\n",
    "\n",
    "Create a class hierarchy related to a school catalog. The minimum classes should be:\n",
    "\n",
    "* Person\n",
    "  * Employee\n",
    "\t* Teacher\n",
    "\t\t* DepartmentHead\n",
    "\t* Administrator\n",
    "\t* ProDean\n",
    "  \t\t* Dean\n",
    "  * Student\n",
    "  \n",
    "Give them some miscellaneous properties and methods, such as (name, birthDate, grades etc and fire(),\n",
    "promote(), evaluateStudent() etc).\n",
    "\n",
    "Create one version with the \"class\" keyword and one in the explicit \"prototype\" + \"function\" way"
   ]
  },
  {
   "cell_type": "code",
   "execution_count": 2,
   "metadata": {},
   "outputs": [],
   "source": [
    "// add the code for the classes here"
   ]
  }
 ],
 "metadata": {
  "kernelspec": {
   "display_name": "Javascript (Node.js)",
   "language": "javascript",
   "name": "javascript"
  },
  "language_info": {
   "file_extension": ".js",
   "mimetype": "application/javascript",
   "name": "javascript",
   "version": "16.2.0"
  }
 },
 "nbformat": 4,
 "nbformat_minor": 2
}
